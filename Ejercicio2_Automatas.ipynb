{
  "nbformat": 4,
  "nbformat_minor": 0,
  "metadata": {
    "colab": {
      "name": "Ejercicio2-Automatas.ipynb",
      "provenance": [],
      "authorship_tag": "ABX9TyNOVz7+b8F3bFa0u39nMs/A",
      "include_colab_link": true
    },
    "kernelspec": {
      "name": "python3",
      "display_name": "Python 3"
    },
    "language_info": {
      "name": "python"
    }
  },
  "cells": [
    {
      "cell_type": "markdown",
      "metadata": {
        "id": "view-in-github",
        "colab_type": "text"
      },
      "source": [
        "<a href=\"https://colab.research.google.com/github/IC-03/Taller1-Automatas/blob/main/Ejercicio2_Automatas.ipynb\" target=\"_parent\"><img src=\"https://colab.research.google.com/assets/colab-badge.svg\" alt=\"Open In Colab\"/></a>"
      ]
    },
    {
      "cell_type": "markdown",
      "source": [
        "#Ejercicio \\# 2\n",
        "\n",
        "$\\sum = \\{0,1\\}$ Lenguaje de todas lass cadenas que contienen la subcadena 000 pero no la subcadena 0000\n",
        "\n",
        "<img src=\"https://raw.githubusercontent.com/IC-03/Taller1-Automatas/main/img_diagramas/Ejercicio2.png\">"
      ],
      "metadata": {
        "id": "t8dHHxqicjjw"
      }
    },
    {
      "cell_type": "code",
      "source": [
        "!pip install automata-lib==1.0.0.post4"
      ],
      "metadata": {
        "id": "g01dssOTcjBb"
      },
      "execution_count": null,
      "outputs": []
    },
    {
      "cell_type": "code",
      "execution_count": 4,
      "metadata": {
        "id": "5fsmXqQrblwF"
      },
      "outputs": [],
      "source": [
        "from automata.fa.dfa import DFA  #cuando se encuentre en colaboratory\n",
        "dfa1 = DFA(\n",
        "    states={'q0', 'q1', 'q2', 'q3','q4','q5','q6','q7','q8'},\n",
        "    input_symbols={'0', '1'},\n",
        "    transitions={\n",
        "        'q0': {'0': 'q1', '1': 'q0'},\n",
        "        'q1': {'0': 'q2', '1': 'q0'},\n",
        "        'q2': {'0': 'q3', '1': 'q0'},\n",
        "        'q3': {'0': 'q8', '1': 'q4'},\n",
        "        'q4': {'0': 'q5', '1': 'q4'},\n",
        "        'q5': {'0': 'q6', '1': 'q4'},\n",
        "        'q6': {'0': 'q7', '1': 'q4'},\n",
        "        'q7': {'0': 'q8', '1': 'q4'},\n",
        "        'q8': {'0': 'q8', '1': 'q8'}\n",
        "    },\n",
        "    initial_state='q0',\n",
        "    final_states={'q3','q4','q5','q6','q7'}\n",
        ")"
      ]
    },
    {
      "cell_type": "code",
      "source": [
        "def checker(cadena,DFA):\n",
        "    try:\n",
        "        DFA.validate_input(cadena)\n",
        "        return \"La cadena es aceptada: sus estados visitados fueron:\",[step for step in DFA.validate_input(cadena, step=True)]\n",
        "    except Exception as e:\n",
        "        print(\"Entrada no valida: \\n\", e)  \n",
        "    \n",
        "checker('0010',dfa1) "
      ],
      "metadata": {
        "colab": {
          "base_uri": "https://localhost:8080/"
        },
        "id": "a3761DnXWl04",
        "outputId": "ae38e3a2-2cf0-49c5-c69d-a68aa2785235"
      },
      "execution_count": 5,
      "outputs": [
        {
          "output_type": "stream",
          "name": "stdout",
          "text": [
            "Entrada no valida: \n",
            " the DFA stopped on a non-final state (q1)\n"
          ]
        }
      ]
    }
  ]
}