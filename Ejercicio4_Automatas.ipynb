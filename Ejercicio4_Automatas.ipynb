{
  "nbformat": 4,
  "nbformat_minor": 0,
  "metadata": {
    "colab": {
      "name": "Ejercicio4-Automatas.ipynb",
      "provenance": [],
      "authorship_tag": "ABX9TyPEaMoKlmF+4v1wIR6hmY4v",
      "include_colab_link": true
    },
    "kernelspec": {
      "name": "python3",
      "display_name": "Python 3"
    },
    "language_info": {
      "name": "python"
    }
  },
  "cells": [
    {
      "cell_type": "markdown",
      "metadata": {
        "id": "view-in-github",
        "colab_type": "text"
      },
      "source": [
        "<a href=\"https://colab.research.google.com/github/IC-03/Taller1-Automatas/blob/main/Ejercicio4_Automatas.ipynb\" target=\"_parent\"><img src=\"https://colab.research.google.com/assets/colab-badge.svg\" alt=\"Open In Colab\"/></a>"
      ]
    },
    {
      "cell_type": "markdown",
      "source": [
        "#Ejercicio \\# 4\n",
        "\n",
        "$\\sum = \\{0,1\\}$ Lenguaje cuyas cadenas tienen simultáneamente las cadenas 010 y 101\n",
        "\n",
        "<img src=\"https://raw.githubusercontent.com/IC-03/Taller1-Automatas/main/img_diagramas/Ejercicio4.png\">\n",
        "\n",
        "\n"
      ],
      "metadata": {
        "id": "bU-MmLmUcYhl"
      }
    },
    {
      "cell_type": "code",
      "execution_count": null,
      "metadata": {
        "id": "TmzkWrG3cUH4"
      },
      "outputs": [],
      "source": [
        "!pip install automata-lib==1.0.0.post4"
      ]
    },
    {
      "cell_type": "code",
      "source": [
        "from automata.fa.dfa import DFA  #cuando se encuentre en colaboratory\n",
        "dfa1 = DFA(\n",
        "    states={'q0', 'q1', 'q2', 'q3', 'q4', 'q5', 'q6', 'q7', 'q8', 'q9', 'q10', 'q11'},\n",
        "    input_symbols={'0', '1'},\n",
        "    transitions={\n",
        "        'q0': {'0': 'q2', '1': 'q1'},\n",
        "        'q1': {'0': 'q3', '1': 'q0'},\n",
        "        'q2': {'0': 'q0', '1': 'q4'},\n",
        "        'q3': {'0': 'q1', '1': 'q5'},\n",
        "        'q4': {'0': 'q6', '1': 'q2'},\n",
        "        'q5': {'0': 'q11', '1': 'q7'},\n",
        "        'q6': {'0': 'q8', '1': 'q11'},\n",
        "        'q7': {'0': 'q9', '1': 'q7'},\n",
        "        'q8': {'0': 'q8', '1': 'q10'},\n",
        "        'q9': {'0': 'q9', '1': 'q5'},\n",
        "        'q10': {'0': 'q6', '1': 'q10'},\n",
        "        'q11': {'0': 'q11', '1': 'q11'}\n",
        "        \n",
        "    },\n",
        "    initial_state='q0',\n",
        "    final_states={'q11'}\n",
        ")"
      ],
      "metadata": {
        "id": "2hlr0stuXJcD"
      },
      "execution_count": 2,
      "outputs": []
    },
    {
      "cell_type": "code",
      "source": [
        "def checker(cadena,DFA):\n",
        "    try:\n",
        "        DFA.validate_input(cadena)\n",
        "        return \"La cadena es aceptada: sus estados visitados fueron:\",[step for step in DFA.validate_input(cadena, step=True)]\n",
        "    except Exception as e:\n",
        "        print(\"Entrada no valida: \\n\", e)  \n",
        "    \n",
        "checker('101100010',dfa1)"
      ],
      "metadata": {
        "colab": {
          "base_uri": "https://localhost:8080/"
        },
        "id": "F9wNrQEYXRBF",
        "outputId": "dda21ca7-90b6-4d7d-83cb-c902af682370"
      },
      "execution_count": 3,
      "outputs": [
        {
          "output_type": "execute_result",
          "data": {
            "text/plain": [
              "('La cadena es aceptada: sus estados visitados fueron:',\n",
              " ['q0', 'q1', 'q3', 'q5', 'q7', 'q9', 'q9', 'q9', 'q5', 'q11'])"
            ]
          },
          "metadata": {},
          "execution_count": 3
        }
      ]
    }
  ]
}