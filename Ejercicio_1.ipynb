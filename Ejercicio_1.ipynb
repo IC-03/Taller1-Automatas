{
  "nbformat": 4,
  "nbformat_minor": 0,
  "metadata": {
    "colab": {
      "name": "Ejercicio#1.ipynb",
      "provenance": [],
      "authorship_tag": "ABX9TyO+dBEXfA8DsFp8qRWDqZiD",
      "include_colab_link": true
    },
    "kernelspec": {
      "name": "python3",
      "display_name": "Python 3"
    },
    "language_info": {
      "name": "python"
    }
  },
  "cells": [
    {
      "cell_type": "markdown",
      "metadata": {
        "id": "view-in-github",
        "colab_type": "text"
      },
      "source": [
        "<a href=\"https://colab.research.google.com/github/IC-03/Taller1-Automatas/blob/main/Ejercicio_1.ipynb\" target=\"_parent\"><img src=\"https://colab.research.google.com/assets/colab-badge.svg\" alt=\"Open In Colab\"/></a>"
      ]
    },
    {
      "cell_type": "markdown",
      "source": [
        "Escriba en un notebook, un programa que reciba como entradas un número natural $n$ y, posteriormente, $n$ palabras del lenguaje $\\sum^*$ y para cada una de ellas diga si la palabra es aceptada o rechazada por el autómata finito determinista que usted diseñe para reconocer cada uno de los siguientes lenguajes.\n",
        "\n",
        "#Ejercicio \\# 1\n",
        "\n",
        "Lenguaje sobre $\\sum = \\{0, 1\\}$ en el que toda subcadena de dos símbolos de la palabra tiene a lo más dos ceros.\n",
        "\n",
        "\n",
        "links cuando vaya adelantar esta vaina\n",
        "https://gitlab.com/bivl2ab/academico/cursos-uis/automatas/automatas-uis-student/-/blob/master/notebooks/Clase_2_2_FromDicToAFD.ipynb\n",
        "\n",
        "segundo link para no mezclarlos\n",
        "https://gitlab.com/bivl2ab/academico/cursos-uis/automatas/automatas-uis-student/-/blob/master/notebooks/Clase_3_Implementacion_AFD.ipynb\n"
      ],
      "metadata": {
        "id": "k_-50Cg2GaeB"
      }
    },
    {
      "cell_type": "code",
      "source": [
        "!pip install automata-lib==1.0.0.post4"
      ],
      "metadata": {
        "colab": {
          "base_uri": "https://localhost:8080/"
        },
        "id": "V1uK6g8y3lJg",
        "outputId": "f3ce70a3-2094-4d05-ed10-7c3bf495c343"
      },
      "execution_count": 21,
      "outputs": [
        {
          "output_type": "stream",
          "name": "stdout",
          "text": [
            "Looking in indexes: https://pypi.org/simple, https://us-python.pkg.dev/colab-wheels/public/simple/\n",
            "Requirement already satisfied: automata-lib==1.0.0.post4 in /usr/local/lib/python3.7/dist-packages (1.0.0.post4)\n"
          ]
        }
      ]
    },
    {
      "cell_type": "code",
      "source": [
        "from automata.fa.dfa import DFA  #cuando se encuentre en colaboratory\n",
        "dfa1 = DFA(\n",
        "    states={'q0', 'q1', 'q2', 'q3'},\n",
        "    input_symbols={'0', '1'},\n",
        "    transitions={\n",
        "        'q0': {'0': 'q1', '1': 'q0'},\n",
        "        'q1': {'0': 'q2', '1': 'q0'},\n",
        "        'q2': {'0': 'q3', '1': 'q0'},\n",
        "        'q3': {'0': 'q3', '1': 'q3'}\n",
        "        \n",
        "    },\n",
        "    initial_state='q0',\n",
        "    final_states={'q0','q1','q2'}\n",
        ")"
      ],
      "metadata": {
        "id": "sPj-LNNa-g1a"
      },
      "execution_count": 22,
      "outputs": []
    },
    {
      "cell_type": "code",
      "source": [
        "def checker(cadena,DFA):\n",
        "    try:\n",
        "        DFA.validate_input(cadena)\n",
        "        return \"La cadena es aceptada: sus estados visitados fueron:\",[step for step in DFA.validate_input(cadena, step=True)]\n",
        "    except Exception as e:\n",
        "        print(\"Entrada no valida: \\n\", e)  \n",
        "    \n",
        "checker('0010',dfa1) "
      ],
      "metadata": {
        "colab": {
          "base_uri": "https://localhost:8080/"
        },
        "id": "XFysOUf3RGz-",
        "outputId": "72e823ed-3367-4e25-f2ba-11bba7bb6c9c"
      },
      "execution_count": 27,
      "outputs": [
        {
          "output_type": "execute_result",
          "data": {
            "text/plain": [
              "('La cadena es aceptada: sus estados visitados fueron:',\n",
              " ['q0', 'q1', 'q2', 'q0', 'q1'])"
            ]
          },
          "metadata": {},
          "execution_count": 27
        }
      ]
    }
  ]
}