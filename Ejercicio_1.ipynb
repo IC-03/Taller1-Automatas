{
  "nbformat": 4,
  "nbformat_minor": 0,
  "metadata": {
    "colab": {
      "name": "Ejercicio#1.ipynb",
      "provenance": [],
      "authorship_tag": "ABX9TyN0IEkMLa5O2xavMGjyblNr",
      "include_colab_link": true
    },
    "kernelspec": {
      "name": "python3",
      "display_name": "Python 3"
    },
    "language_info": {
      "name": "python"
    }
  },
  "cells": [
    {
      "cell_type": "markdown",
      "metadata": {
        "id": "view-in-github",
        "colab_type": "text"
      },
      "source": [
        "<a href=\"https://colab.research.google.com/github/IC-03/Taller1-Automatas/blob/main/Ejercicio_1.ipynb\" target=\"_parent\"><img src=\"https://colab.research.google.com/assets/colab-badge.svg\" alt=\"Open In Colab\"/></a>"
      ]
    },
    {
      "cell_type": "markdown",
      "source": [
        "#Ejercicio \\# 1\n",
        "\n",
        "Lenguaje sobre $\\sum = \\{0, 1\\}$ en el que toda subcadena de dos símbolos de la palabra tiene a lo más dos ceros.\n",
        "\n",
        "<img src=\"https://raw.githubusercontent.com/IC-03/Taller1-Automatas/main/img_diagramas/Ejercicio1.png\" width=500 height=250 align=\"center\">\n"
      ],
      "metadata": {
        "id": "k_-50Cg2GaeB"
      }
    },
    {
      "cell_type": "code",
      "source": [
        "!pip install automata-lib==1.0.0.post4"
      ],
      "metadata": {
        "id": "V1uK6g8y3lJg"
      },
      "execution_count": null,
      "outputs": []
    },
    {
      "cell_type": "code",
      "source": [
        "from automata.fa.dfa import DFA  #cuando se encuentre en colaboratory\n",
        "dfa1 = DFA(\n",
        "    states={'q0', 'q1', 'q2', 'q3'},\n",
        "    input_symbols={'0', '1'},\n",
        "    transitions={\n",
        "        'q0': {'0': 'q1', '1': 'q0'},\n",
        "        'q1': {'0': 'q2', '1': 'q0'},\n",
        "        'q2': {'0': 'q3', '1': 'q0'},\n",
        "        'q3': {'0': 'q3', '1': 'q3'}\n",
        "        \n",
        "    },\n",
        "    initial_state='q0',\n",
        "    final_states={'q0','q1','q2'}\n",
        ")"
      ],
      "metadata": {
        "id": "sPj-LNNa-g1a"
      },
      "execution_count": 2,
      "outputs": []
    },
    {
      "cell_type": "code",
      "source": [
        "def checker(cadena,DFA):\n",
        "    try:\n",
        "        DFA.validate_input(cadena)\n",
        "        return \"La cadena es aceptada: sus estados visitados fueron:\",[step for step in DFA.validate_input(cadena, step=True)]\n",
        "    except Exception as e:\n",
        "        print(\"Entrada no valida: \\n\", e)  \n",
        "    \n",
        "checker('0010',dfa1) "
      ],
      "metadata": {
        "colab": {
          "base_uri": "https://localhost:8080/"
        },
        "id": "XFysOUf3RGz-",
        "outputId": "73c5693e-33e8-4b43-f1fa-f8b839660ec6"
      },
      "execution_count": 3,
      "outputs": [
        {
          "output_type": "execute_result",
          "data": {
            "text/plain": [
              "('La cadena es aceptada: sus estados visitados fueron:',\n",
              " ['q0', 'q1', 'q2', 'q0', 'q1'])"
            ]
          },
          "metadata": {},
          "execution_count": 3
        }
      ]
    }
  ]
}