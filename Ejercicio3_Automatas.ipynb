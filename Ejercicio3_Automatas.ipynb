{
  "nbformat": 4,
  "nbformat_minor": 0,
  "metadata": {
    "colab": {
      "name": "Ejercicio3-Automatas.ipynb",
      "provenance": [],
      "authorship_tag": "ABX9TyNotLCSYzA1uIJ5S73aC/sV",
      "include_colab_link": true
    },
    "kernelspec": {
      "name": "python3",
      "display_name": "Python 3"
    },
    "language_info": {
      "name": "python"
    }
  },
  "cells": [
    {
      "cell_type": "markdown",
      "metadata": {
        "id": "view-in-github",
        "colab_type": "text"
      },
      "source": [
        "<a href=\"https://colab.research.google.com/github/IC-03/Taller1-Automatas/blob/main/Ejercicio3_Automatas.ipynb\" target=\"_parent\"><img src=\"https://colab.research.google.com/assets/colab-badge.svg\" alt=\"Open In Colab\"/></a>"
      ]
    },
    {
      "cell_type": "markdown",
      "source": [
        "#Ejercicio \\#3\n",
        "$\\sum = \\{0,1\\}$ Lenguaje cuyas palabras no tiene más de una ocurrencia de la cadena 11.\n",
        "\n",
        "<img src=\"https://raw.githubusercontent.com/IC-03/Taller1-Automatas/main/img_diagramas/Ejercicio3.png\">"
      ],
      "metadata": {
        "id": "eHHgKFFIcdA7"
      }
    },
    {
      "cell_type": "code",
      "execution_count": null,
      "metadata": {
        "id": "CYj5_LfVbuL2"
      },
      "outputs": [],
      "source": [
        "!pip install automata-lib==1.0.0.post4"
      ]
    },
    {
      "cell_type": "code",
      "source": [
        "from automata.fa.dfa import DFA \n",
        "dfa1 = DFA(\n",
        "    states={'q0', 'q1', 'q2', 'q3', 'q4'},\n",
        "    input_symbols={'0', '1'},\n",
        "    transitions={\n",
        "        'q0': {'0': 'q0', '1': 'q1'},\n",
        "        'q1': {'0': 'q0', '1': 'q2'},\n",
        "        'q2': {'0': 'q3', '1': 'q4'},\n",
        "        'q3': {'0': 'q3', '1': 'q2'},\n",
        "        'q4': {'0': 'q4', '1': 'q4'}\n",
        "    },\n",
        "    initial_state='q0',\n",
        "    final_states={'q0','q1','q2','q3'}\n",
        ")"
      ],
      "metadata": {
        "id": "qtc0OLphXPPs"
      },
      "execution_count": 3,
      "outputs": []
    },
    {
      "cell_type": "code",
      "source": [
        "def checker(cadena,DFA):\n",
        "    try:\n",
        "        DFA.validate_input(cadena)\n",
        "        return \"La cadena es aceptada: sus estados visitados fueron:\",[step for step in DFA.validate_input(cadena, step=True)]\n",
        "    except Exception as e:\n",
        "        print(\"Entrada no valida: \\n\", e)  \n",
        "    \n",
        "checker('0011010',dfa1)"
      ],
      "metadata": {
        "colab": {
          "base_uri": "https://localhost:8080/"
        },
        "id": "Ilv4oKJxXOWX",
        "outputId": "0b639065-6b20-478f-bef9-811a6a20aa86"
      },
      "execution_count": 9,
      "outputs": [
        {
          "output_type": "execute_result",
          "data": {
            "text/plain": [
              "('La cadena es aceptada: sus estados visitados fueron:',\n",
              " ['q0', 'q0', 'q0', 'q1', 'q2', 'q3', 'q2', 'q3'])"
            ]
          },
          "metadata": {},
          "execution_count": 9
        }
      ]
    }
  ]
}